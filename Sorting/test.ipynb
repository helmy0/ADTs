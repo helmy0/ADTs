{
 "cells": [
  {
   "cell_type": "code",
   "execution_count": 10,
   "id": "initial_id",
   "metadata": {
    "collapsed": true,
    "ExecuteTime": {
     "end_time": "2024-03-21T13:05:10.165560Z",
     "start_time": "2024-03-21T13:05:10.161423Z"
    }
   },
   "outputs": [
    {
     "name": "stdout",
     "output_type": "stream",
     "text": [
      "(0, 48)\n"
     ]
    }
   ],
   "source": [
    "def doSomething(input_list):\n",
    "    if len(input_list) == 1:\n",
    "        return input_list[0], input_list[0]\n",
    "    var1, var2 = doSomething(input_list[1:])\n",
    "    if input_list[0] < var1:\n",
    "        return input_list[0], input_list[0] + var2\n",
    "    else:\n",
    "        return var1, input_list[0] + var2\n",
    "\n",
    "aList = [12,2,7,10,17,0]\n",
    "\n",
    "print(doSomething(aList))\n"
   ]
  },
  {
   "cell_type": "code",
   "execution_count": 16,
   "outputs": [
    {
     "name": "stdout",
     "output_type": "stream",
     "text": [
      "25\n"
     ]
    }
   ],
   "source": [
    "class TreeNode:\n",
    "    def __init__(self, item):\n",
    "        self.item = item\n",
    "        self.left = None\n",
    "        self.right = None\n",
    "\n",
    "class binarySearchTree:\n",
    "    def __init__(self):\n",
    "        self.root = None\n",
    "\n",
    "    def insert(self, item):\n",
    "        if self.root is None:\n",
    "            self.root = TreeNode(item)\n",
    "        else:\n",
    "            self._insert_recursive(self.root, item)\n",
    "\n",
    "    def _insert_recursive(self, current, item):\n",
    "        if item < current.item:\n",
    "            if current.left is None:\n",
    "                current.left = TreeNode(item)\n",
    "            else:\n",
    "                self._insert_recursive(current.left, item)\n",
    "        elif item > current.item:\n",
    "            if current.right is None:\n",
    "                current.right = TreeNode(item)\n",
    "            else:\n",
    "                self._insert_recursive(current.right, item)\n",
    "\n",
    "    def k_largest(self, k):\n",
    "        aList = []\n",
    "        self.k_largest_aux(self.root, k, aList)\n",
    "        return aList[-1]\n",
    "\n",
    "    def k_largest_aux(self, current, k, aList):\n",
    "        if current is None or len(aList) >= k:\n",
    "            return\n",
    "\n",
    "        # Traverse right first (reverse inorder traversal)\n",
    "        self.k_largest_aux(current.right, k, aList)\n",
    "\n",
    "        # Check if the list has reached k elements\n",
    "        if len(aList) < k:\n",
    "            aList.append(current.item)\n",
    "            # Traverse left only if we haven't reached k elements\n",
    "            self.k_largest_aux(current.left, k, aList)\n",
    "\n",
    "# Example usage:\n",
    "bst = binarySearchTree()\n",
    "elements = [24, 4, 3, 25, 13, 6, 45, 16, 67]\n",
    "for element in elements:\n",
    "    bst.insert(element)\n",
    "\n",
    "k = 3\n",
    "print(bst.k_largest(k))  # Output: 25\n"
   ],
   "metadata": {
    "collapsed": false,
    "ExecuteTime": {
     "end_time": "2024-03-21T14:22:53.707506Z",
     "start_time": "2024-03-21T14:22:53.698237Z"
    }
   },
   "id": "1cdca14452e2e81c"
  },
  {
   "cell_type": "code",
   "execution_count": null,
   "outputs": [],
   "source": [],
   "metadata": {
    "collapsed": false
   },
   "id": "8e05026ddcb805cd"
  }
 ],
 "metadata": {
  "kernelspec": {
   "display_name": "Python 3",
   "language": "python",
   "name": "python3"
  },
  "language_info": {
   "codemirror_mode": {
    "name": "ipython",
    "version": 2
   },
   "file_extension": ".py",
   "mimetype": "text/x-python",
   "name": "python",
   "nbconvert_exporter": "python",
   "pygments_lexer": "ipython2",
   "version": "2.7.6"
  }
 },
 "nbformat": 4,
 "nbformat_minor": 5
}
